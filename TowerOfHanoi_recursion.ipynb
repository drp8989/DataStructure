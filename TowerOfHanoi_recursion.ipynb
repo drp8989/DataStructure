{
 "cells": [
  {
   "cell_type": "code",
   "execution_count": 1,
   "id": "402e477c",
   "metadata": {},
   "outputs": [
    {
     "name": "stdout",
     "output_type": "stream",
     "text": [
      "3000\n"
     ]
    }
   ],
   "source": [
    "import sys\n",
    "print(sys.getrecursionlimit())\n",
    "sys.setrecursionlimit(3000)"
   ]
  },
  {
   "cell_type": "code",
   "execution_count": 5,
   "id": "ef5a4e81",
   "metadata": {},
   "outputs": [],
   "source": [
    "def TOH(n,fr,to,ax):\n",
    "    if(n==1):\n",
    "        print(\"Move\",n,\"from\",fr,\"To\",to)\n",
    "        return\n",
    "    TOH(n-1,fr,ax,to)\n",
    "    print(\"Move\",n,\"from\",fr,\"To\",to)\n",
    "    TOH(n-1,ax,to,fr)\n",
    "    \n",
    "    "
   ]
  },
  {
   "cell_type": "code",
   "execution_count": 7,
   "id": "ed712e3f",
   "metadata": {},
   "outputs": [
    {
     "name": "stdout",
     "output_type": "stream",
     "text": [
      "Move 1 from a To c\n",
      "Move 2 from a To b\n",
      "Move 1 from c To b\n",
      "Move 3 from a To c\n",
      "Move 1 from b To a\n",
      "Move 2 from b To c\n",
      "Move 1 from a To c\n",
      "Move 4 from a To b\n",
      "Move 1 from c To b\n",
      "Move 2 from c To a\n",
      "Move 1 from b To a\n",
      "Move 3 from c To b\n",
      "Move 1 from a To c\n",
      "Move 2 from a To b\n",
      "Move 1 from c To b\n"
     ]
    }
   ],
   "source": [
    "TOH(4,\"a\",\"b\",\"c\")"
   ]
  },
  {
   "cell_type": "code",
   "execution_count": null,
   "id": "4358d361",
   "metadata": {},
   "outputs": [],
   "source": []
  }
 ],
 "metadata": {
  "kernelspec": {
   "display_name": "Python 3 (ipykernel)",
   "language": "python",
   "name": "python3"
  },
  "language_info": {
   "codemirror_mode": {
    "name": "ipython",
    "version": 3
   },
   "file_extension": ".py",
   "mimetype": "text/x-python",
   "name": "python",
   "nbconvert_exporter": "python",
   "pygments_lexer": "ipython3",
   "version": "3.10.4"
  }
 },
 "nbformat": 4,
 "nbformat_minor": 5
}
