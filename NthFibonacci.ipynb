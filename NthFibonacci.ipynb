{
 "cells": [
  {
   "cell_type": "markdown",
   "id": "cac1f15f-183c-4b1a-9d2b-780b7494c061",
   "metadata": {},
   "source": [
    "0 1 1 2 3 5 8 13 \n",
    "4th fibonaaci=3rd+2nd "
   ]
  },
  {
   "cell_type": "code",
   "execution_count": 3,
   "id": "82395030-f065-45cd-9574-d5bd2b5b3fad",
   "metadata": {},
   "outputs": [],
   "source": [
    "def fibb(n):\n",
    "    if n<=1:\n",
    "        return n \n",
    "    last=fibb(n-1)\n",
    "    slast=fibb(n-2)\n",
    "    return last+slast"
   ]
  },
  {
   "cell_type": "code",
   "execution_count": 5,
   "id": "a1dded9d-fdc9-4a91-9bfa-38d301740f76",
   "metadata": {},
   "outputs": [
    {
     "name": "stdout",
     "output_type": "stream",
     "text": [
      "13\n"
     ]
    }
   ],
   "source": [
    "print(fibb(7))"
   ]
  },
  {
   "cell_type": "code",
   "execution_count": null,
   "id": "6003b8c1-adbc-44b9-90f5-5aacf34db154",
   "metadata": {},
   "outputs": [],
   "source": []
  }
 ],
 "metadata": {
  "kernelspec": {
   "display_name": "Python 3 (ipykernel)",
   "language": "python",
   "name": "python3"
  },
  "language_info": {
   "codemirror_mode": {
    "name": "ipython",
    "version": 3
   },
   "file_extension": ".py",
   "mimetype": "text/x-python",
   "name": "python",
   "nbconvert_exporter": "python",
   "pygments_lexer": "ipython3",
   "version": "3.10.4"
  }
 },
 "nbformat": 4,
 "nbformat_minor": 5
}
