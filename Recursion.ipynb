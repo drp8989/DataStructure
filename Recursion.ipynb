{
 "cells": [
  {
   "cell_type": "code",
   "execution_count": 3,
   "id": "3b5eaade-5ceb-4325-9c08-8ba391404f8a",
   "metadata": {},
   "outputs": [],
   "source": [
    "def f(index,n):\n",
    "    if index > n:\n",
    "        return \n",
    "    f(index+1,n)\n",
    "    print(index)\n",
    "    return\n",
    "    \n"
   ]
  },
  {
   "cell_type": "code",
   "execution_count": 4,
   "id": "97f3ea57-cecd-42b4-936d-dc1057537271",
   "metadata": {},
   "outputs": [
    {
     "name": "stdout",
     "output_type": "stream",
     "text": [
      "5\n",
      "4\n",
      "3\n",
      "2\n",
      "1\n",
      "0\n"
     ]
    }
   ],
   "source": [
    "f(0,5)"
   ]
  },
  {
   "cell_type": "code",
   "execution_count": null,
   "id": "4473fd78-fdce-48b7-ac93-6dc3420de548",
   "metadata": {},
   "outputs": [],
   "source": []
  }
 ],
 "metadata": {
  "kernelspec": {
   "display_name": "Python 3 (ipykernel)",
   "language": "python",
   "name": "python3"
  },
  "language_info": {
   "codemirror_mode": {
    "name": "ipython",
    "version": 3
   },
   "file_extension": ".py",
   "mimetype": "text/x-python",
   "name": "python",
   "nbconvert_exporter": "python",
   "pygments_lexer": "ipython3",
   "version": "3.10.4"
  }
 },
 "nbformat": 4,
 "nbformat_minor": 5
}
