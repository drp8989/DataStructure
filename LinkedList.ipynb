{
 "cells": [
  {
   "cell_type": "code",
   "execution_count": 1,
   "id": "b4e2642b-b815-44c9-adc5-5f933d30389f",
   "metadata": {},
   "outputs": [],
   "source": [
    "class Node:\n",
    "    def __init__(self,data=None,next=None):\n",
    "        self.data=data\n",
    "        self.next=next\n",
    "        \n",
    "        \n",
    "class LinkedList:\n",
    "    def __init__(self):\n",
    "        self.head=None\n",
    "        \n",
    "    def insert_at_begin(self,data):\n",
    "        if self.head is None:\n",
    "            new_node=Node(data,self.head)\n",
    "            self.head=new_node\n",
    "        else:\n",
    "            new_node=Node(data)\n",
    "            new_node.next=self.head\n",
    "            self.head=new_node\n",
    "       \n",
    "            \n",
    "    def insert_at_end(self,data):\n",
    "        last_node=self.head\n",
    "        while last_node.next:\n",
    "            last_node=last_node.next\n",
    "        last_node.next=Node(data)\n",
    "        \n",
    "    def nthlastnode(self,n):\n",
    "        p=self.head\n",
    "        q=self.head\n",
    "        count=0\n",
    "        while q and count < n:\n",
    "            q=q.next\n",
    "            count+=1\n",
    "        if not q:\n",
    "            print(\"list is empty\")\n",
    "        \n",
    "        while p and q :\n",
    "            p=p.next\n",
    "            q=q.next\n",
    "        return p.data\n",
    "            \n",
    "    def nthlastnode1(self,n):\n",
    "        curr=self.head\n",
    "        length=0\n",
    "        while curr:\n",
    "            length+=1\n",
    "            curr=curr.next\n",
    "        curr=self.head\n",
    "        \n",
    "        while curr:\n",
    "            if(length==n):\n",
    "                print(curr.data)\n",
    "                return curr\n",
    "            length-=1\n",
    "            curr=curr.next\n",
    "\n",
    "            \n",
    "    def traverse(self):\n",
    "        if self.head is None:\n",
    "            print(\"Linked list is empty\")\n",
    "            return \n",
    "        itr=self.head\n",
    "        llstr=''\n",
    "        while itr:\n",
    "            llstr+=str(itr.data) + '-->'\n",
    "            itr=itr.next\n",
    "        print(llstr)"
   ]
  },
  {
   "cell_type": "code",
   "execution_count": 4,
   "id": "f50a1eac-843e-492e-9e91-c484cc2395b7",
   "metadata": {},
   "outputs": [
    {
     "name": "stdout",
     "output_type": "stream",
     "text": [
      "70-->40-->30-->20-->10-->\n",
      "10\n"
     ]
    },
    {
     "data": {
      "text/plain": [
       "<__main__.Node at 0x13fe4afd750>"
      ]
     },
     "execution_count": 4,
     "metadata": {},
     "output_type": "execute_result"
    }
   ],
   "source": [
    "ll=LinkedList()\n",
    "ll.insert_at_begin(20)\n",
    "ll.insert_at_begin(30)\n",
    "ll.insert_at_end(10)\n",
    "ll.insert_at_begin(40)\n",
    "ll.insert_at_begin(70)\n",
    "ll.traverse()\n",
    "ll.nthlastnode1(1)"
   ]
  },
  {
   "cell_type": "code",
   "execution_count": 48,
   "id": "f4bc84f7-9d46-4acf-8440-83230ec2d935",
   "metadata": {},
   "outputs": [],
   "source": [
    "ll.nthlastnode1(2)"
   ]
  },
  {
   "cell_type": "code",
   "execution_count": null,
   "id": "afcb78ba-fb59-4860-ad80-0e1ef84c50ab",
   "metadata": {},
   "outputs": [],
   "source": []
  }
 ],
 "metadata": {
  "kernelspec": {
   "display_name": "Python 3 (ipykernel)",
   "language": "python",
   "name": "python3"
  },
  "language_info": {
   "codemirror_mode": {
    "name": "ipython",
    "version": 3
   },
   "file_extension": ".py",
   "mimetype": "text/x-python",
   "name": "python",
   "nbconvert_exporter": "python",
   "pygments_lexer": "ipython3",
   "version": "3.10.4"
  }
 },
 "nbformat": 4,
 "nbformat_minor": 5
}
