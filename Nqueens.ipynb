{
 "cells": [
  {
   "cell_type": "code",
   "execution_count": null,
   "id": "3b9bbec6-8f25-4379-8d6b-2de2a87126f9",
   "metadata": {},
   "outputs": [],
   "source": [
    "def Nqueens(n):\n",
    "    grid=[0 for i in range(n)[for j in range(n)]]\n",
    "    for i in range(n-1):\n",
    "        \n",
    "        "
   ]
  }
 ],
 "metadata": {
  "kernelspec": {
   "display_name": "Python 3 (ipykernel)",
   "language": "python",
   "name": "python3"
  },
  "language_info": {
   "codemirror_mode": {
    "name": "ipython",
    "version": 3
   },
   "file_extension": ".py",
   "mimetype": "text/x-python",
   "name": "python",
   "nbconvert_exporter": "python",
   "pygments_lexer": "ipython3",
   "version": "3.10.4"
  }
 },
 "nbformat": 4,
 "nbformat_minor": 5
}
