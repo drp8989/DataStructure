{
 "cells": [
  {
   "cell_type": "code",
   "execution_count": 5,
   "id": "75c40936-994b-45ee-b365-d2f20c03fa45",
   "metadata": {},
   "outputs": [
    {
     "name": "stdout",
     "output_type": "stream",
     "text": [
      "6 coin of 10\n",
      "1 coin of 1\n"
     ]
    }
   ],
   "source": [
    "import math\n",
    "coins=[10,5,2,1]\n",
    "result=0\n",
    "amt=61\n",
    "for i in range (len(coins)):\n",
    "    if coins[i]<=amt:\n",
    "            value=math.floor(amt/coins[i])\n",
    "            result=result+value\n",
    "            print(value,\"coin\"+\" of\",coins[i])\n",
    "            amt=amt-value*coins[i]\n",
    "    if amt==0:\n",
    "        break\n"
   ]
  },
  {
   "cell_type": "code",
   "execution_count": null,
   "id": "8af69e4c-7e46-4581-9cc5-3d70e2350774",
   "metadata": {},
   "outputs": [],
   "source": []
  },
  {
   "cell_type": "code",
   "execution_count": null,
   "id": "6928362b-efb4-4c21-b3e1-afb306f6427c",
   "metadata": {},
   "outputs": [],
   "source": []
  }
 ],
 "metadata": {
  "kernelspec": {
   "display_name": "Python 3 (ipykernel)",
   "language": "python",
   "name": "python3"
  },
  "language_info": {
   "codemirror_mode": {
    "name": "ipython",
    "version": 3
   },
   "file_extension": ".py",
   "mimetype": "text/x-python",
   "name": "python",
   "nbconvert_exporter": "python",
   "pygments_lexer": "ipython3",
   "version": "3.10.4"
  }
 },
 "nbformat": 4,
 "nbformat_minor": 5
}
