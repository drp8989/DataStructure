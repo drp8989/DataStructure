{
 "cells": [
  {
   "cell_type": "code",
   "execution_count": 11,
   "id": "584533a0",
   "metadata": {},
   "outputs": [],
   "source": [
    "def isPal(string,s,e):\n",
    "    if(s==e):\n",
    "        if(string[s]==string[e]):\n",
    "            print(\"String is a palindrome\")\n",
    "        else:\n",
    "            print(\"false\")\n",
    "        return \n",
    "    if(s>e):\n",
    "        print(\"String is a palindrome\")\n",
    "        return \n",
    "    if(string[s] != string[e]):\n",
    "                print(\"String is not a palindrome\")\n",
    "                return \n",
    "        \n",
    "    else:\n",
    "\n",
    "        isPal(string,s+1,e-1)\n",
    "        return"
   ]
  },
  {
   "cell_type": "code",
   "execution_count": 13,
   "id": "ebf041be",
   "metadata": {},
   "outputs": [
    {
     "name": "stdout",
     "output_type": "stream",
     "text": [
      "String is not a palindrome\n"
     ]
    }
   ],
   "source": [
    "string=\"acbaca\"\n",
    "s=0\n",
    "e=len(string)-1\n",
    "isPal(string,s,e)\n",
    "\n"
   ]
  },
  {
   "cell_type": "code",
   "execution_count": null,
   "id": "16f5d48b",
   "metadata": {},
   "outputs": [],
   "source": []
  },
  {
   "cell_type": "code",
   "execution_count": null,
   "id": "f858494e",
   "metadata": {},
   "outputs": [],
   "source": []
  },
  {
   "cell_type": "code",
   "execution_count": null,
   "id": "b00f4e81",
   "metadata": {},
   "outputs": [],
   "source": []
  },
  {
   "cell_type": "code",
   "execution_count": null,
   "id": "6f9272e3",
   "metadata": {},
   "outputs": [],
   "source": []
  }
 ],
 "metadata": {
  "kernelspec": {
   "display_name": "Python 3 (ipykernel)",
   "language": "python",
   "name": "python3"
  },
  "language_info": {
   "codemirror_mode": {
    "name": "ipython",
    "version": 3
   },
   "file_extension": ".py",
   "mimetype": "text/x-python",
   "name": "python",
   "nbconvert_exporter": "python",
   "pygments_lexer": "ipython3",
   "version": "3.10.4"
  }
 },
 "nbformat": 4,
 "nbformat_minor": 5
}
