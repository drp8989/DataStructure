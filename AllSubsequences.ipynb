{
 "cells": [
  {
   "cell_type": "code",
   "execution_count": 2,
   "id": "337c92ac-eb58-468e-8e67-ef0afca4f94a",
   "metadata": {},
   "outputs": [],
   "source": [
    "def subSequences(STR,substr=\"\"):\n",
    "    if len(STR)==0:\n",
    "        print(substr)\n",
    "        return\n",
    "    ch=STR[0]\n",
    "    rem=STR[1: ]\n",
    "    subSequences(rem,substr+ch)\n",
    "    subSequences(rem,substr)\n",
    "    return\n",
    "    "
   ]
  },
  {
   "cell_type": "code",
   "execution_count": 3,
   "id": "5ec1afb7-d1a2-419b-9dad-cf1a348ca378",
   "metadata": {},
   "outputs": [
    {
     "name": "stdout",
     "output_type": "stream",
     "text": [
      "ABCD\n",
      "ABC\n",
      "ABD\n",
      "AB\n",
      "ACD\n",
      "AC\n",
      "AD\n",
      "A\n",
      "BCD\n",
      "BC\n",
      "BD\n",
      "B\n",
      "CD\n",
      "C\n",
      "D\n",
      "\n"
     ]
    }
   ],
   "source": [
    "string=str(\"ABCD\")\n",
    "subSequences(string)"
   ]
  },
  {
   "cell_type": "code",
   "execution_count": 7,
   "id": "43717e94-0284-4e4d-b401-23bc9f8d14ad",
   "metadata": {},
   "outputs": [],
   "source": [
    "def subsequences(arr,index,substring):\n",
    "    if index==len(arr):\n",
    "        return \n",
    "    else:\n",
    "        subsequences(arr,index+1,substring)\n",
    "        subsequences(arr,index+1,substring+arr[index])\n",
    "        return\n",
    "        "
   ]
  },
  {
   "cell_type": "code",
   "execution_count": 4,
   "id": "599fb307-ead1-4285-88ef-cc7378f24757",
   "metadata": {},
   "outputs": [
    {
     "ename": "TypeError",
     "evalue": "can only concatenate list (not \"int\") to list",
     "output_type": "error",
     "traceback": [
      "\u001b[1;31m---------------------------------------------------------------------------\u001b[0m",
      "\u001b[1;31mTypeError\u001b[0m                                 Traceback (most recent call last)",
      "Input \u001b[1;32mIn [4]\u001b[0m, in \u001b[0;36m<cell line: 3>\u001b[1;34m()\u001b[0m\n\u001b[0;32m      1\u001b[0m arr\u001b[38;5;241m=\u001b[39m[\u001b[38;5;241m1\u001b[39m,\u001b[38;5;241m2\u001b[39m,\u001b[38;5;241m3\u001b[39m]\n\u001b[0;32m      2\u001b[0m out\u001b[38;5;241m=\u001b[39m\u001b[38;5;124m\"\u001b[39m\u001b[38;5;124m\"\u001b[39m\n\u001b[1;32m----> 3\u001b[0m \u001b[43msubsequences\u001b[49m\u001b[43m(\u001b[49m\u001b[43marr\u001b[49m\u001b[43m,\u001b[49m\u001b[38;5;241;43m0\u001b[39;49m\u001b[43m,\u001b[49m\u001b[43m[\u001b[49m\u001b[43m]\u001b[49m\u001b[43m)\u001b[49m\n",
      "Input \u001b[1;32mIn [3]\u001b[0m, in \u001b[0;36msubsequences\u001b[1;34m(arr, index, substring)\u001b[0m\n\u001b[0;32m      3\u001b[0m     \u001b[38;5;28;01mreturn\u001b[39;00m \n\u001b[0;32m      4\u001b[0m \u001b[38;5;28;01melse\u001b[39;00m:\n\u001b[1;32m----> 5\u001b[0m     \u001b[43msubsequences\u001b[49m\u001b[43m(\u001b[49m\u001b[43marr\u001b[49m\u001b[43m,\u001b[49m\u001b[43mindex\u001b[49m\u001b[38;5;241;43m+\u001b[39;49m\u001b[38;5;241;43m1\u001b[39;49m\u001b[43m,\u001b[49m\u001b[43msubstring\u001b[49m\u001b[43m)\u001b[49m\n\u001b[0;32m      6\u001b[0m     subsequences(arr,index\u001b[38;5;241m+\u001b[39m\u001b[38;5;241m1\u001b[39m,substring\u001b[38;5;241m+\u001b[39marr[index])\n\u001b[0;32m      7\u001b[0m     \u001b[38;5;28;01mreturn\u001b[39;00m\n",
      "Input \u001b[1;32mIn [3]\u001b[0m, in \u001b[0;36msubsequences\u001b[1;34m(arr, index, substring)\u001b[0m\n\u001b[0;32m      3\u001b[0m     \u001b[38;5;28;01mreturn\u001b[39;00m \n\u001b[0;32m      4\u001b[0m \u001b[38;5;28;01melse\u001b[39;00m:\n\u001b[1;32m----> 5\u001b[0m     \u001b[43msubsequences\u001b[49m\u001b[43m(\u001b[49m\u001b[43marr\u001b[49m\u001b[43m,\u001b[49m\u001b[43mindex\u001b[49m\u001b[38;5;241;43m+\u001b[39;49m\u001b[38;5;241;43m1\u001b[39;49m\u001b[43m,\u001b[49m\u001b[43msubstring\u001b[49m\u001b[43m)\u001b[49m\n\u001b[0;32m      6\u001b[0m     subsequences(arr,index\u001b[38;5;241m+\u001b[39m\u001b[38;5;241m1\u001b[39m,substring\u001b[38;5;241m+\u001b[39marr[index])\n\u001b[0;32m      7\u001b[0m     \u001b[38;5;28;01mreturn\u001b[39;00m\n",
      "Input \u001b[1;32mIn [3]\u001b[0m, in \u001b[0;36msubsequences\u001b[1;34m(arr, index, substring)\u001b[0m\n\u001b[0;32m      4\u001b[0m \u001b[38;5;28;01melse\u001b[39;00m:\n\u001b[0;32m      5\u001b[0m     subsequences(arr,index\u001b[38;5;241m+\u001b[39m\u001b[38;5;241m1\u001b[39m,substring)\n\u001b[1;32m----> 6\u001b[0m     subsequences(arr,index\u001b[38;5;241m+\u001b[39m\u001b[38;5;241m1\u001b[39m,\u001b[43msubstring\u001b[49m\u001b[38;5;241;43m+\u001b[39;49m\u001b[43marr\u001b[49m\u001b[43m[\u001b[49m\u001b[43mindex\u001b[49m\u001b[43m]\u001b[49m)\n\u001b[0;32m      7\u001b[0m     \u001b[38;5;28;01mreturn\u001b[39;00m\n",
      "\u001b[1;31mTypeError\u001b[0m: can only concatenate list (not \"int\") to list"
     ]
    }
   ],
   "source": [
    "arr=[1,2,3]\n",
    "out=\"\"\n",
    "subsequences(arr,0,[])\n"
   ]
  },
  {
   "cell_type": "code",
   "execution_count": null,
   "id": "8441ae0e-00ef-4ecc-a82c-e917627f1b51",
   "metadata": {},
   "outputs": [],
   "source": []
  },
  {
   "cell_type": "code",
   "execution_count": null,
   "id": "ff66c975-4876-4b88-980e-78f37ec2b5c7",
   "metadata": {},
   "outputs": [],
   "source": []
  },
  {
   "cell_type": "code",
   "execution_count": null,
   "id": "7351ef8c-dde3-45fa-8a3b-72850d29add8",
   "metadata": {},
   "outputs": [],
   "source": []
  }
 ],
 "metadata": {
  "kernelspec": {
   "display_name": "Python 3 (ipykernel)",
   "language": "python",
   "name": "python3"
  },
  "language_info": {
   "codemirror_mode": {
    "name": "ipython",
    "version": 3
   },
   "file_extension": ".py",
   "mimetype": "text/x-python",
   "name": "python",
   "nbconvert_exporter": "python",
   "pygments_lexer": "ipython3",
   "version": "3.10.4"
  }
 },
 "nbformat": 4,
 "nbformat_minor": 5
}
