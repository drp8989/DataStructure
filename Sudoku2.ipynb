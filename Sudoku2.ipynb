{
 "cells": [
  {
   "cell_type": "code",
   "execution_count": 16,
   "id": "5891e95d-9c41-4789-b7d5-4b99db2ddc83",
   "metadata": {},
   "outputs": [],
   "source": [
    "def isvalid(grid,row,col,no):\n",
    "    for i in range(9):\n",
    "        if (grid[i][col] == no):\n",
    "            return False\n",
    "\n",
    "        if (grid[row][i] == no):\n",
    "            return False\n",
    "\n",
    "        if (grid[3 * (row / 3) + i / 3][3 * (col / 3) + i % 3] == no):\n",
    "            return False\n",
    "    return True\n",
    "\n",
    "def SolveSoduku(grid):\n",
    "    for i in range(len(grid)):\n",
    "        for j in range(len(grid)):\n",
    "            if grid[i][j]==0:\n",
    "                for no in range(1,9):\n",
    "                    if isvalid(grid,i,j,no):\n",
    "                        grid[i][j]=no\n",
    "                        if SolveSoduku(grid)==True:\n",
    "                            printing(grid)\n",
    "                            return True\n",
    "                        else:\n",
    "                            return False\n",
    "                    else:\n",
    "                        return False\n",
    "            else:\n",
    "                return False\n",
    "    \n",
    "def printing(grid):\n",
    "    for i in range(9):\n",
    "        for j in range(9):\n",
    "            print(grid[i][j], end = \" \")\n",
    "        print()          "
   ]
  },
  {
   "cell_type": "code",
   "execution_count": 17,
   "id": "09077d13-b599-4230-9afd-8641804dcfdf",
   "metadata": {},
   "outputs": [],
   "source": [
    "grid = [[3, 0, 6, 5, 0, 8, 4, 0, 0],\n",
    "        [5, 2, 0, 0, 0, 0, 0, 0, 0],\n",
    "        [0, 8, 7, 0, 0, 0, 0, 3, 1],\n",
    "        [0, 0, 3, 0, 1, 0, 0, 8, 0],\n",
    "        [9, 0, 0, 8, 6, 3, 0, 0, 5],\n",
    "        [0, 5, 0, 0, 9, 0, 6, 0, 0],\n",
    "        [1, 3, 0, 0, 0, 0, 2, 5, 0],\n",
    "        [0, 0, 0, 0, 0, 0, 0, 7, 4],\n",
    "        [0, 0, 5, 2, 0, 6, 3, 0, 0]]\n"
   ]
  },
  {
   "cell_type": "code",
   "execution_count": 18,
   "id": "11be190e-2593-4b8a-a7b0-a02bc4ceacfc",
   "metadata": {},
   "outputs": [
    {
     "data": {
      "text/plain": [
       "False"
      ]
     },
     "execution_count": 18,
     "metadata": {},
     "output_type": "execute_result"
    }
   ],
   "source": [
    "SolveSoduku(grid)"
   ]
  },
  {
   "cell_type": "code",
   "execution_count": null,
   "id": "7d4f9c6e-0b5b-47ac-b29e-464775f2478c",
   "metadata": {},
   "outputs": [],
   "source": []
  },
  {
   "cell_type": "code",
   "execution_count": null,
   "id": "458e03e0-35ac-4c70-b045-4214110a968a",
   "metadata": {},
   "outputs": [],
   "source": []
  },
  {
   "cell_type": "code",
   "execution_count": null,
   "id": "b83a9dbd-37ae-437d-a5ca-d06bd60fc274",
   "metadata": {},
   "outputs": [],
   "source": []
  }
 ],
 "metadata": {
  "kernelspec": {
   "display_name": "Python 3 (ipykernel)",
   "language": "python",
   "name": "python3"
  },
  "language_info": {
   "codemirror_mode": {
    "name": "ipython",
    "version": 3
   },
   "file_extension": ".py",
   "mimetype": "text/x-python",
   "name": "python",
   "nbconvert_exporter": "python",
   "pygments_lexer": "ipython3",
   "version": "3.10.4"
  }
 },
 "nbformat": 4,
 "nbformat_minor": 5
}
